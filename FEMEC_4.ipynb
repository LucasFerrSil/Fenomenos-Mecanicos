{
  "nbformat": 4,
  "nbformat_minor": 0,
  "metadata": {
    "colab": {
      "provenance": [],
      "include_colab_link": true
    },
    "kernelspec": {
      "name": "python3",
      "display_name": "Python 3"
    },
    "language_info": {
      "name": "python"
    }
  },
  "cells": [
    {
      "cell_type": "markdown",
      "metadata": {
        "id": "view-in-github",
        "colab_type": "text"
      },
      "source": [
        "<a href=\"https://colab.research.google.com/github/LucasFerrSil/Fenomenos-Mecanicos/blob/main/FEMEC_4.ipynb\" target=\"_parent\"><img src=\"https://colab.research.google.com/assets/colab-badge.svg\" alt=\"Open In Colab\"/></a>"
      ]
    },
    {
      "cell_type": "code",
      "execution_count": null,
      "metadata": {
        "id": "UXsunpKaU2BO"
      },
      "outputs": [],
      "source": [
        "def desviopadrao(quantidade_de_dados):\n",
        "    soma = 0\n",
        "    c = len(quantidade_de_dados)\n",
        "    for i in range(c):\n",
        "        soma += quantidade_de_dados[i]\n",
        "    media = soma/c\n",
        "    soma_dos_quadrados = 0\n",
        "    for i in range(c):\n",
        "        soma_dos_quadrados += (quantidade_de_dados[i] - media)**2\n",
        "    desvio = (soma_dos_quadrados/(c*(c - 1)))**(1/2)\n",
        "    x = ([media,desvio])\n",
        "    return x\n",
        "\n",
        "def soma(v1, incerteza1, v2, incerteza2,v3, incerteza3,v4,incerteza4):\n",
        "    incerteza = ( incerteza1**2 + incerteza2**2 + incerteza3**2 + incerteza4**2)**(1/2)\n",
        "    valor = v1+v2+v3+v4\n",
        "    x = [valor,incerteza]\n",
        "    return x\n",
        "\n",
        "def soma2(v1, incerteza1, v2, incerteza2):\n",
        "    incerteza = ( incerteza1**2 + incerteza2**2)**(1/2)\n",
        "    valor = v1+v2\n",
        "    x = [valor,incerteza]\n",
        "    return x\n",
        "\n",
        "def aceleracao(l1,s1,t1,l2,s2,t2):\n",
        "    w = (l2/t2) - (l1/t1)\n",
        "    e = (t2+t1)/2\n",
        "    a = w/e\n",
        "    termo1 = ((2*s2)/(t2*(t2+t1)))**2\n",
        "    termo2 = ((2*s1)/(t1*(t2+t1)))**2\n",
        "    inca = (termo1 + termo2)**(1/2)\n",
        "    x = [a,inca]\n",
        "    return x\n",
        "\n",
        "def velocidade(distancia, incerteza1, tempo, incerteza2):\n",
        "    incerteza = (((incerteza1/tempo)**2 + (incerteza2*distancia/tempo**2)**2))**(1/2)\n",
        "    velocidade = distancia/tempo\n",
        "    x = [velocidade, incerteza]\n",
        "    return x\n",
        "\n",
        "def Lteo(mc,b,vi,incv1, a,inca, tf,ti):\n",
        "    momento = mc*b*(vi + a*(tf-ti))\n",
        "    incv12 = incv1**2\n",
        "    inca2 = inca**2\n",
        "    dt = (tf-ti)**2\n",
        "    soma = incv12 + inca2*dt\n",
        "    raiz = soma**(1/2)\n",
        "    incertezap = mc*b*raiz\n",
        "    x = [momento * 10**(-7), incertezap * 10**(-7)]\n",
        "    return x\n",
        "\n",
        "def Lexp(mc,b,vf,incvf):\n",
        "    momento = mc*b*vf\n",
        "    incertezap = mc*b*incvf\n",
        "    x = [momento * 10**(-7), incertezap * 10**(-7)]\n",
        "    return x\n",
        "\n",
        "def I(m,r,incr):\n",
        "    momentoi = m/2*r**2\n",
        "    inci = m*r*incr\n",
        "    x = [momentoi,inci]\n",
        "    return x\n",
        "\n",
        "def Ldisco(i, inci,w,incw):\n",
        "  momento = i*w\n",
        "  somaq = (w*inci)**2 + (i*incw)**2\n",
        "  incertezap = somaq**(1/2)\n",
        "  x = [momento* 10**(-7), incertezap* 10**(-7)]\n",
        "  return x\n",
        "\n",
        "def omega(periodo):\n",
        "    import math\n",
        "    w = 2*math.pi/periodo\n",
        "    return w"
      ]
    },
    {
      "cell_type": "code",
      "source": [
        "a = [30.9,30,30.2]\n",
        "desviopadrao(a)"
      ],
      "metadata": {
        "colab": {
          "base_uri": "https://localhost:8080/"
        },
        "id": "ilAmN9jzwpm0",
        "outputId": "ad0ee7e7-8f76-4a6a-f86a-90cb1a4aa024"
      },
      "execution_count": null,
      "outputs": [
        {
          "output_type": "execute_result",
          "data": {
            "text/plain": [
              "[30.366666666666664, 0.27284509239574795]"
            ]
          },
          "metadata": {},
          "execution_count": 10
        }
      ]
    },
    {
      "cell_type": "code",
      "source": [
        "I(78,5.5,0.05)\n"
      ],
      "metadata": {
        "colab": {
          "base_uri": "https://localhost:8080/"
        },
        "id": "3D9V-SiD0OJz",
        "outputId": "c63253ea-ed3d-4587-b539-8e146e2cd6b5"
      },
      "execution_count": null,
      "outputs": [
        {
          "output_type": "execute_result",
          "data": {
            "text/plain": [
              "[1179.75, 21.450000000000003]"
            ]
          },
          "metadata": {},
          "execution_count": 2
        }
      ]
    },
    {
      "cell_type": "code",
      "source": [
        "Ldisco(1179.75,21.45,11,9484)"
      ],
      "metadata": {
        "id": "RWnlXP551rCx"
      },
      "execution_count": null,
      "outputs": []
    },
    {
      "cell_type": "code",
      "source": [
        "comprimentos = c = [[13.9,9.9,12],[14,10,12],[27.6,25.6,27.8],[15,10.6,13.8]]\n",
        "CompEIncerteza = ci = []\n",
        "for i in range(len(c)):\n",
        "    ci.append(desviopadrao(c[i]))\n",
        "\n",
        "mc = 323.10\n",
        "b = 5.5\n",
        "incertezab = 0.05\n",
        "R = [5.2,0.05]\n",
        "md = 78.04\n",
        "\n",
        "tempoSemColisao = tsc = [[0.53260,0.53265,0.52865],[0.30995,0.30940,0.30910],[0.50150,0.51210,0.51050],[0.17870,0.17955,0.17950]]\n",
        "tempoComColisao = tcc = [[0.52795,0.53130,0.52920],[0.30875,0.31040,0.31000],[0.51540,0.49805,0.50305],[0.18925,0.18050,0.18305]]\n",
        "\n",
        "periodoRot = pr = [0.91,2.6,1.82]\n",
        "\n",
        "tscf = []\n",
        "for i in range(len(tsc)):\n",
        "    tscf.append(desviopadrao(tsc[i]))\n",
        "\n",
        "a = aceleracao(ci[0][0],ci[0][1],tscf[0][0],ci[1][0],ci[1][1],tscf[1][0])\n",
        "vi = velocidade(ci[0][0],ci[0][1],tscf[0][0], tscf[0][1])\n",
        "ti = [tscf[0][0]/2,tscf[0][1]/2]\n",
        "vf = velocidade(ci[3][0],ci[3][1],tscf[3][0], tscf[3][1])\n",
        "tf = soma(tscf[0][0], tscf[0][1],tscf[1][0], tscf[1][1],tscf[2][0], tscf[2][1],tscf[3][0]/2, tscf[3][1]/2)\n",
        "lteo = Lteo(mc,b,vi[0],vi[1],a[0],a[1],tf[0],ti[0])\n",
        "lexp = Lexp(mc,b,vf[0],vf[1])\n",
        "\n",
        "tccf = []\n",
        "for i in range(len(tcc)):\n",
        "    tccf.append(desviopadrao(tcc[i]))\n",
        "\n",
        "prf = desviopadrao(pr)\n",
        "wbruto = []\n",
        "for i in range(len(pr)):\n",
        "  wbruto.append(omega(pr[i]))\n",
        "\n",
        "w = desviopadrao(wbruto)\n",
        "\n",
        "momentoinercia = I(md,R[0], R[1])\n",
        "momentoAngular = mma = Ldisco(momentoinercia[0], momentoinercia[1], w[0],w[1])\n",
        "vf2 = velocidade(ci[3][0],ci[3][1],tccf[3][0], tccf[3][1])\n",
        "lcarrinho = Lexp(mc,b,vf2[0],vf2[1])\n",
        "ltotal = soma2(lcarrinho[0],lcarrinho[1],mma[0],mma[1])"
      ],
      "metadata": {
        "id": "s1XX4UsTVRpg"
      },
      "execution_count": null,
      "outputs": []
    },
    {
      "cell_type": "code",
      "source": [
        "print(lteo,lexp,ltotal,lcarrinho,mma)"
      ],
      "metadata": {
        "colab": {
          "base_uri": "https://localhost:8080/"
        },
        "id": "29MGa0UJcUg8",
        "outputId": "1eca4a76-24e0-493b-bb36-768d1d7cf832"
      },
      "execution_count": null,
      "outputs": [
        {
          "output_type": "stream",
          "name": "stdout",
          "text": [
            "[0.012078937267146574, 0.002175452045678991] [0.013020133891213393, 0.0013020160655579003] [0.01311490491275444, 0.0012869638409441957] [0.012665660274963823, 0.0012789486421859826] [0.0004492446377906169, 0.00014340954831694054]\n"
          ]
        }
      ]
    },
    {
      "cell_type": "code",
      "source": [
        "print(\"Valores sem colisão:\\nAceleração:\", a,\"\\n\\nVelocidade Inicial\",vi,\"\\n\\nTempo Inicial\",ti,\"\\n\\nVelocidade final\",vf,\"\\n\\nTempo final\",tf,\"\\n\\nMomento angular dos dados\",lteo,\"\\n\\nMomento esperado\",lexp,\"\\n\\nValores com colisão:\\n\\nVelocidade Angular\",w,\"\\n\\nMomento de inercia\",momentoinercia,\"\\n\\nMomento angular Iw\",mma,\"\\n\\nVelocidade final\",vf2,\"\\n\\nMomento angular carrinho\",lcarrinho,\"\\n\\nMomento Angular total\",ltotal)"
      ],
      "metadata": {
        "colab": {
          "base_uri": "https://localhost:8080/"
        },
        "id": "96P69CSQ2xKu",
        "outputId": "d573d1e0-277a-40a0-a734-3b84eb1ad509"
      },
      "execution_count": null,
      "outputs": [
        {
          "output_type": "stream",
          "name": "stdout",
          "text": [
            "Valores sem colisão:\n",
            "Aceleração: [38.80588363667884, 10.272216793055922] \n",
            "\n",
            "Velocidade Inicial [22.46063115628333, 2.1749762756657494] \n",
            "\n",
            "Tempo Inicial [0.26564999999999994, 0.0006625393070100329] \n",
            "\n",
            "Velocidade final [73.26824732682475, 7.326839793803777] \n",
            "\n",
            "Tempo final [1.4384416666666666, 0.003566676401855885] \n",
            "\n",
            "Momento angular dos dados [0.012078937267146574, 0.002175452045678991] \n",
            "\n",
            "Momento esperado [0.013020133891213393, 0.0013020160655579003] \n",
            "\n",
            "Valores com colisão:\n",
            "\n",
            "Velocidade Angular [4.2578361971729795, 1.3567337411615066] \n",
            "\n",
            "Momento de inercia [1055.1008000000002, 20.290400000000005] \n",
            "\n",
            "Momento angular Iw [0.0004492446377906169, 0.00014340954831694054] \n",
            "\n",
            "Velocidade final [71.27351664254704, 7.197032397433851] \n",
            "\n",
            "Momento angular carrinho [0.012665660274963823, 0.0012789486421859826] \n",
            "\n",
            "Momento Angular total [0.01311490491275444, 0.0012869638409441957]\n"
          ]
        }
      ]
    },
    {
      "cell_type": "code",
      "source": [
        "print(wbruto,w)"
      ],
      "metadata": {
        "colab": {
          "base_uri": "https://localhost:8080/"
        },
        "id": "WUi6WAs_uC1V",
        "outputId": "06d268f8-6efd-482c-d418-0e37810b5edf"
      },
      "execution_count": null,
      "outputs": [
        {
          "output_type": "stream",
          "name": "stdout",
          "text": [
            "[6.904599238658886, 2.41660973353061, 3.452299619329443] [4.2578361971729795, 1.3567337411615066]\n"
          ]
        }
      ]
    },
    {
      "cell_type": "code",
      "source": [
        "print(\"Comprimento:\",c,\"\\nMedia e desvio do Comprimento:\",ci,\"\\nTempo sem colisão:\",tsc,\"\\nMedia e desvio dos tempos\",tscf,\"\\nTempos com colisao\",tcc,\"\\nMedia e desvio dos tempos\",tccf,\"\\nPeriodo de rotação\",pr,\"\\nMedia e desvio\",prf)"
      ],
      "metadata": {
        "colab": {
          "base_uri": "https://localhost:8080/"
        },
        "id": "hmgxjnE-kYOF",
        "outputId": "fc41c9e4-5d12-4d67-8b17-e214787a23aa"
      },
      "execution_count": null,
      "outputs": [
        {
          "output_type": "stream",
          "name": "stdout",
          "text": [
            "Comprimento: [[13.9, 9.9, 12], [14, 10, 12], [27.6, 25.6, 27.8], [15, 10.6, 13.8]] \n",
            "Media e desvio do Comprimento: [[11.933333333333332, 1.155181563410897], [12.0, 1.1547005383792515], [27.0, 0.7023769168568491], [13.133333333333335, 1.3131810402394808]] \n",
            "Tempo sem colisão: [[0.5326, 0.53265, 0.52865], [0.30995, 0.3094, 0.3091], [0.5015, 0.5121, 0.5105], [0.1787, 0.17955, 0.1795]] \n",
            "Media e desvio dos tempos [[0.5312999999999999, 0.0013250786140200658], [0.30948333333333333, 0.0002488864087178055], [0.5080333333333332, 0.0032991581417756446], [0.17925, 0.0002753785273643025]] \n",
            "Tempos com colisao [[0.52795, 0.5313, 0.5292], [0.30875, 0.3104, 0.31], [0.5154, 0.49805, 0.50305], [0.18925, 0.1805, 0.18305]] \n",
            "Media e desvio dos tempos [[0.5294833333333333, 0.0009773831274263733], [0.3097166666666667, 0.0004969350505291798], [0.5055, 0.005156145200955192], [0.18426666666666666, 0.0025981296691616053]] \n",
            "Periodo de rotação [0.91, 2.6, 1.82] \n",
            "Media e desvio [1.7766666666666666, 0.48834186568200133]\n"
          ]
        }
      ]
    }
  ]
}